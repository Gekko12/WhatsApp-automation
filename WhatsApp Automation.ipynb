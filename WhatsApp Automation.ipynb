{
 "cells": [
  {
   "cell_type": "markdown",
   "metadata": {},
   "source": [
    "# <font color=\"hotpink\"> Automation using selenium </font>\n",
    "\n",
    "* To install Selenium\n",
    "```\n",
    "pip install selenium\n",
    "pip install webdriver_manager\n",
    "pip show selenium\n",
    "```\n",
    "* Set the path of chrome driver manually, like for Windows(C:\\ProgramFiles(x86)\\Google\\Application\\chrome.exe)\n",
    "* Contact should be saved one.\n",
    "* WhatsApp version tested: Version 2.2149.4\n",
    "* Global variables can be changed, correct absolute-path should be specified."
   ]
  },
  {
   "cell_type": "code",
   "execution_count": 1,
   "metadata": {},
   "outputs": [
    {
     "name": "stdout",
     "output_type": "stream",
     "text": [
      "Python 3.8.10\r\n"
     ]
    }
   ],
   "source": [
    "!python3 --version"
   ]
  },
  {
   "cell_type": "code",
   "execution_count": 2,
   "metadata": {
    "scrolled": true
   },
   "outputs": [
    {
     "name": "stdout",
     "output_type": "stream",
     "text": [
      "Name: selenium\n",
      "Version: 4.1.0\n",
      "Summary: \n",
      "Home-page: https://www.selenium.dev\n",
      "Author: \n",
      "Author-email: \n",
      "License: Apache 2.0\n",
      "Location: /home/gaurav/.local/lib/python3.8/site-packages\n",
      "Requires: trio, trio-websocket, urllib3\n",
      "Required-by: \n",
      "Note: you may need to restart the kernel to use updated packages.\n"
     ]
    }
   ],
   "source": [
    "pip show selenium"
   ]
  },
  {
   "cell_type": "code",
   "execution_count": 36,
   "metadata": {},
   "outputs": [
    {
     "name": "stdout",
     "output_type": "stream",
     "text": [
      "Supported web.whatsapp version: Version 2.2149.4\n",
      "Scanning QR code ......\n",
      "Logged In\n",
      "msg sending....\n",
      "msg sent\n",
      "image sending.....\n",
      "image sent\n",
      "pdf sending.....\n",
      "pdf sent\n"
     ]
    }
   ],
   "source": [
    "from selenium import webdriver\n",
    "from selenium.webdriver.support.ui import WebDriverWait\n",
    "from selenium.webdriver.support.ui import Select\n",
    "from selenium.webdriver.common.by import By\n",
    "from selenium.webdriver.common.keys import Keys\n",
    "from selenium.webdriver.chrome.service import Service\n",
    "from selenium.webdriver.chrome.options import Options\n",
    "import time\n",
    "\n",
    "\n",
    "chrome_path = '/snap/bin/chromium.chromedriver'\n",
    "contact = \"TestGroup\"\n",
    "text = \"Hey, this message was sent using Selenium\"\n",
    "img_filepath = '/home/gaurav/Programs/Projects/WhatsApp_Automation/hexa.png'\n",
    "pdf_filepath = '/home/gaurav/Programs/Projects/WhatsApp_Automation/basicscience.pdf'\n",
    "\n",
    "small_delay = 3  #in-seconds, for buttons\n",
    "long_delay = 6   #in-seconds, for processing time like img/doc processing while including path\n",
    "qr_code_delay = 30   #in-seconds, in between time to scan the qr-code and start the automation\n",
    "\n",
    "try:\n",
    "    ser = Service(chrome_path)\n",
    "    \n",
    "    #To disable repeated QR-code scanning\n",
    "    options = Options()\n",
    "    options.add_argument(\"--user-data-dir=chrome-data\")\n",
    "    options.add_experimental_option(\"excludeSwitches\", [\"enable-automation\"])\n",
    "    options.add_experimental_option('useAutomationExtension', False)\n",
    "    \n",
    "    driver = webdriver.Chrome(service = ser, options=options)\n",
    "    driver.maximize_window()\n",
    "    driver.get(\"https://web.whatsapp.com\")\n",
    "    \n",
    "    print('Supported web.whatsapp version:', 'Version 2.2149.4')\n",
    "    print(\"Scanning QR code ......\")\n",
    "    time.sleep(qr_code_delay)\n",
    "    print(\"Logged In\")\n",
    "\n",
    "    selected_contact = driver.find_element(By.XPATH, \"//span[@title='\"+contact+\"']\")\n",
    "    selected_contact.click()\n",
    "    time.sleep(small_delay)\n",
    "\n",
    "    print('msg sending....')\n",
    "    inp_xpath = '//div[@class=\"_13NKt copyable-text selectable-text\"][@contenteditable=\"true\"][@data-tab=\"10\"]'\n",
    "    input_box = driver.find_element(By.XPATH, inp_xpath)\n",
    "    time.sleep(small_delay)\n",
    "    input_box.send_keys(text + Keys.ENTER)\n",
    "    time.sleep(small_delay)\n",
    "    print('msg sent')\n",
    "\n",
    "    print('image sending.....')\n",
    "    attach_xpath = '//div[@class=\"_26lC3\"][@data-tab=\"10\"][@title=\"Attach\"]'\n",
    "    attach_butt = driver.find_element(By.XPATH, attach_xpath)\n",
    "    attach_butt.click()\n",
    "    time.sleep(small_delay)\n",
    "\n",
    "    image_xpath = '//input[@accept=\"image/*,video/mp4,video/3gpp,video/quicktime\"]'\n",
    "    image_butt = driver.find_element(By.XPATH, image_xpath)\n",
    "    image_butt.send_keys(img_filepath)\n",
    "    time.sleep(long_delay)\n",
    "\n",
    "    send_xpath = '//span[@data-testid=\"send\"][@data-icon=\"send\"]'\n",
    "    send_butt = driver.find_element(By.XPATH, send_xpath)\n",
    "    send_butt.click()\n",
    "    time.sleep(small_delay)\n",
    "    print('image sent')\n",
    "\n",
    "    print('pdf sending.....')\n",
    "    attach_xpath = '//div[@class=\"_26lC3\"][@data-tab=\"10\"][@title=\"Attach\"]'\n",
    "    attach_butt = driver.find_element(By.XPATH, attach_xpath)\n",
    "    attach_butt.click()\n",
    "    time.sleep(small_delay)\n",
    "\n",
    "    pdf_xpath = '//input[@accept=\"*\"][@type=\"file\"]'\n",
    "    pdf_butt = driver.find_element(By.XPATH, pdf_xpath)\n",
    "    pdf_butt.send_keys(pdf_filepath)\n",
    "    time.sleep(long_delay)\n",
    "\n",
    "    send_xpath = '//span[@data-testid=\"send\"][@data-icon=\"send\"]'\n",
    "    send_butt = driver.find_element(By.XPATH, send_xpath)\n",
    "    send_butt.click()\n",
    "    time.sleep(small_delay)\n",
    "    print('pdf sent')\n",
    "    \n",
    "    driver.close()\n",
    "    driver.quit()\n",
    "except Exception as e:\n",
    "    print('Error:', e)"
   ]
  },
  {
   "cell_type": "markdown",
   "metadata": {},
   "source": [
    "# <font color=\"hotpink\">Automation using pywhatkit module </font>\n",
    "\n",
    "* To install pywhatkit\n",
    "```\n",
    "pip install pywhatkit\n",
    "```\n",
    "* For Linux based distributions we need `copyq` installed on your system.\n",
    "```\n",
    "sudo add-apt-repository ppa:hluk/copyq\n",
    "sudo apt update\n",
    "sudo apt install copyq\n",
    "```"
   ]
  },
  {
   "cell_type": "code",
   "execution_count": null,
   "metadata": {},
   "outputs": [],
   "source": [
    "import pywhatkit as pwt\n",
    "print(pwt.__VERSION__)"
   ]
  },
  {
   "cell_type": "markdown",
   "metadata": {},
   "source": [
    "## Sending the image and msg to a WhatsApp number\n",
    "\n",
    "* Connect laptop to the internet and provide access to WhatsApp account\n",
    "* Specify WhatsApp number with Country Code, image path and message to send\n",
    "* Wait for the process, and enjoy WhatsApp automation\n",
    "\n",
    "**NOTE:** Windows users can send Images (all formats) and GIF's. For Linux based distributions, only JPEG and PNG are supported. For MacOS users, only JPEG is supported currently.\n"
   ]
  },
  {
   "cell_type": "code",
   "execution_count": null,
   "metadata": {},
   "outputs": [],
   "source": [
    " try:\n",
    "    img_path = '/home/gaurav/Pictures/Images/hexa.png' \n",
    "    whatsapp_num = '+919988776655'\n",
    "    msg = 'Hello World !!!'\n",
    "    \n",
    "    pwt.sendwhatmsg_instantly(whatsapp_num, msg, wait_time = 15, tab_close = True, close_time = 4)\n",
    "    pwt.sendwhats_image(whatsapp_num, img_path, wait_time = 15, tab_close = False)\n",
    "except InternetException as e:\n",
    "    print('Please connect to the Internet:', e)\n",
    "except CountryCodeException as e:\n",
    "    print('Please specify correct CountryCode:', e)\n",
    "except Exception as e:\n",
    "    print('Error Occured:', e)"
   ]
  }
 ],
 "metadata": {
  "interpreter": {
   "hash": "916dbcbb3f70747c44a77c7bcd40155683ae19c65e1c03b4aa3499c5328201f1"
  },
  "kernelspec": {
   "display_name": "Python 3",
   "language": "python",
   "name": "python3"
  },
  "language_info": {
   "codemirror_mode": {
    "name": "ipython",
    "version": 3
   },
   "file_extension": ".py",
   "mimetype": "text/x-python",
   "name": "python",
   "nbconvert_exporter": "python",
   "pygments_lexer": "ipython3",
   "version": "3.8.10"
  }
 },
 "nbformat": 4,
 "nbformat_minor": 4
}
